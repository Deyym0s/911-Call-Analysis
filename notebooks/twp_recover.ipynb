{
 "cells": [
  {
   "cell_type": "code",
   "execution_count": 65,
   "id": "64fee99e-f5e0-442f-bf33-d78d3617df17",
   "metadata": {},
   "outputs": [],
   "source": [
    "import pandas as pd\n",
    "import numpy as np\n",
    "import itertools\n",
    "import matplotlib.pyplot as plt\n",
    "import seaborn as sns\n",
    "%matplotlib inline"
   ]
  },
  {
   "cell_type": "code",
   "execution_count": 66,
   "id": "b74379b3-eae1-4375-a7a8-7feca0ec985e",
   "metadata": {},
   "outputs": [],
   "source": [
    "df = pd.read_csv(\"data\\911.csv\")"
   ]
  },
  {
   "cell_type": "code",
   "execution_count": 67,
   "id": "d2060a3b-fc32-415e-9081-a108094570ee",
   "metadata": {},
   "outputs": [
    {
     "name": "stdout",
     "output_type": "stream",
     "text": [
      "<class 'pandas.core.frame.DataFrame'>\n",
      "RangeIndex: 663522 entries, 0 to 663521\n",
      "Data columns (total 9 columns):\n",
      " #   Column     Non-Null Count   Dtype  \n",
      "---  ------     --------------   -----  \n",
      " 0   lat        663522 non-null  float64\n",
      " 1   lng        663522 non-null  float64\n",
      " 2   desc       663522 non-null  object \n",
      " 3   zip        583323 non-null  float64\n",
      " 4   title      663522 non-null  object \n",
      " 5   timeStamp  663522 non-null  object \n",
      " 6   twp        663229 non-null  object \n",
      " 7   addr       663522 non-null  object \n",
      " 8   e          663522 non-null  int64  \n",
      "dtypes: float64(3), int64(1), object(5)\n",
      "memory usage: 45.6+ MB\n"
     ]
    }
   ],
   "source": [
    "df.info()"
   ]
  },
  {
   "cell_type": "code",
   "execution_count": 68,
   "id": "259f3ac4-0257-494f-afab-99ff2ed5e6a3",
   "metadata": {},
   "outputs": [
    {
     "data": {
      "text/plain": [
       "663282"
      ]
     },
     "execution_count": 68,
     "metadata": {},
     "output_type": "execute_result"
    }
   ],
   "source": [
    "df = df.drop_duplicates(inplace=False)\n",
    "df.shape[0]"
   ]
  },
  {
   "cell_type": "code",
   "execution_count": 69,
   "id": "1504f4c3-3158-4a88-94f9-de923ad7036e",
   "metadata": {},
   "outputs": [
    {
     "data": {
      "text/plain": [
       "lat              0\n",
       "lng              0\n",
       "desc             0\n",
       "zip          80165\n",
       "title            0\n",
       "timeStamp        0\n",
       "twp            293\n",
       "addr             0\n",
       "e                0\n",
       "dtype: int64"
      ]
     },
     "execution_count": 69,
     "metadata": {},
     "output_type": "execute_result"
    }
   ],
   "source": [
    "df.isnull().sum()"
   ]
  },
  {
   "cell_type": "code",
   "execution_count": 70,
   "id": "c71428ad-afd5-43df-95a0-2561b3b29fee",
   "metadata": {},
   "outputs": [],
   "source": [
    "df['coords'] = list(zip(df['lat'], df['lng']))\n",
    "\n",
    "df = df.drop(['lat', 'lng'], axis=1)\n",
    "df = df[['coords', 'desc', 'zip', 'title', 'timeStamp', 'twp', 'addr', 'e']]"
   ]
  },
  {
   "cell_type": "code",
   "execution_count": 71,
   "id": "ac8827ca-9445-4866-b3ca-55d5e2c00096",
   "metadata": {},
   "outputs": [
    {
     "data": {
      "text/plain": [
       "169"
      ]
     },
     "execution_count": 71,
     "metadata": {},
     "output_type": "execute_result"
    }
   ],
   "source": [
    "nullBothCol = df[(df['zip'].isnull()) & (df['twp'].isnull())]\n",
    "nullBothCol.shape[0]"
   ]
  },
  {
   "cell_type": "code",
   "execution_count": 72,
   "id": "e7da54ab-2a24-4997-bb6c-95f7485006b1",
   "metadata": {},
   "outputs": [
    {
     "data": {
      "text/plain": [
       "663113"
      ]
     },
     "execution_count": 72,
     "metadata": {},
     "output_type": "execute_result"
    }
   ],
   "source": [
    "df = df.drop(nullBothCol.index, axis=0)\n",
    "df.shape[0]"
   ]
  },
  {
   "cell_type": "code",
   "execution_count": 73,
   "id": "c991e804-1a88-4f3d-a222-be44a2f370a4",
   "metadata": {},
   "outputs": [
    {
     "data": {
      "text/plain": [
       "79996"
      ]
     },
     "execution_count": 73,
     "metadata": {},
     "output_type": "execute_result"
    }
   ],
   "source": [
    "nullZip = df[df['zip'].isnull()]\n",
    "nullZip.shape[0]"
   ]
  },
  {
   "cell_type": "code",
   "execution_count": 74,
   "id": "199aa81a-db87-412a-9ba9-5d6245716c20",
   "metadata": {},
   "outputs": [
    {
     "data": {
      "text/plain": [
       "583117"
      ]
     },
     "execution_count": 74,
     "metadata": {},
     "output_type": "execute_result"
    }
   ],
   "source": [
    "df = df.drop(nullZip.index, axis=0)\n",
    "df.shape[0]"
   ]
  },
  {
   "cell_type": "code",
   "execution_count": 75,
   "id": "d651db74-7686-44e9-a30c-c5b33df7846c",
   "metadata": {},
   "outputs": [
    {
     "data": {
      "text/plain": [
       "124"
      ]
     },
     "execution_count": 75,
     "metadata": {},
     "output_type": "execute_result"
    }
   ],
   "source": [
    "nullTwp = df[df['twp'].isnull()]\n",
    "nullTwp.shape[0]"
   ]
  },
  {
   "cell_type": "code",
   "execution_count": 76,
   "id": "ba4e4f41-31a9-4106-837e-31358f455c61",
   "metadata": {},
   "outputs": [
    {
     "data": {
      "text/plain": [
       "582993"
      ]
     },
     "execution_count": 76,
     "metadata": {},
     "output_type": "execute_result"
    }
   ],
   "source": [
    "df = df.drop(nullTwp.index, axis=0)\n",
    "df.shape[0]"
   ]
  },
  {
   "cell_type": "code",
   "execution_count": 77,
   "id": "7bc11a3f-eed9-49f9-9811-35ae792bbbe2",
   "metadata": {},
   "outputs": [],
   "source": [
    "def find_best_twp(row, df, options):\n",
    "    best_twp = None\n",
    "    best_cols = None\n",
    "    best_size = float('inf')\n",
    "\n",
    "    for r in range(1, len(options) + 1):\n",
    "        for subset in itertools.combinations(options, r):\n",
    "            cur_df = df\n",
    "            for col in subset:\n",
    "                cur_df = cur_df[cur_df[col] == row[col]]\n",
    "\n",
    "            unique_twps = cur_df['twp'].unique()\n",
    "\n",
    "            if 0 < len(unique_twps) < best_size:\n",
    "                best_size = len(unique_twps)\n",
    "                best_twp = unique_twps\n",
    "                best_cols = subset\n",
    "\n",
    "    if best_twp is not None:\n",
    "        return {\n",
    "            'cols_used': list(best_cols),\n",
    "            'twp': best_twp,\n",
    "            'twp_count': best_size\n",
    "        }\n",
    "\n",
    "    return"
   ]
  },
  {
   "cell_type": "code",
   "execution_count": 78,
   "id": "bb47e90d-da14-4aa1-a215-b82af79f3186",
   "metadata": {},
   "outputs": [],
   "source": [
    "results = []\n",
    "\n",
    "for idx in nullTwp.index:\n",
    "    res = find_best_twp(nullTwp.loc[idx], df, ['coords', 'zip', 'addr'])\n",
    "    if res:\n",
    "        res['row_index'] = idx\n",
    "        results.append(res)\n",
    "    else:\n",
    "        nullTwp.drop(idx, axis=0, inplace=True)\n",
    "\n",
    "stats_df = pd.DataFrame(results).set_index('row_index')"
   ]
  },
  {
   "cell_type": "code",
   "execution_count": 79,
   "id": "52a86693-66e5-4709-a3a2-100d67fdf422",
   "metadata": {},
   "outputs": [
    {
     "data": {
      "text/plain": [
       "122"
      ]
     },
     "execution_count": 79,
     "metadata": {},
     "output_type": "execute_result"
    }
   ],
   "source": [
    "nullTwp.shape[0]"
   ]
  },
  {
   "cell_type": "code",
   "execution_count": 89,
   "id": "73426037-cd36-4f8e-8e7d-3ebf76386925",
   "metadata": {},
   "outputs": [
    {
     "data": {
      "text/html": [
       "<div>\n",
       "<style scoped>\n",
       "    .dataframe tbody tr th:only-of-type {\n",
       "        vertical-align: middle;\n",
       "    }\n",
       "\n",
       "    .dataframe tbody tr th {\n",
       "        vertical-align: top;\n",
       "    }\n",
       "\n",
       "    .dataframe thead th {\n",
       "        text-align: right;\n",
       "    }\n",
       "</style>\n",
       "<table border=\"1\" class=\"dataframe\">\n",
       "  <thead>\n",
       "    <tr style=\"text-align: right;\">\n",
       "      <th></th>\n",
       "      <th>cols_used</th>\n",
       "      <th>twp</th>\n",
       "      <th>twp_count</th>\n",
       "    </tr>\n",
       "    <tr>\n",
       "      <th>row_index</th>\n",
       "      <th></th>\n",
       "      <th></th>\n",
       "      <th></th>\n",
       "    </tr>\n",
       "  </thead>\n",
       "  <tbody>\n",
       "    <tr>\n",
       "      <th>646783</th>\n",
       "      <td>[zip, addr]</td>\n",
       "      <td>[UPPER PROVIDENCE, PLYMOUTH]</td>\n",
       "      <td>2</td>\n",
       "    </tr>\n",
       "    <tr>\n",
       "      <th>579857</th>\n",
       "      <td>[zip]</td>\n",
       "      <td>[POTTSTOWN, LOWER POTTSGROVE, LIMERICK, WEST P...</td>\n",
       "      <td>33</td>\n",
       "    </tr>\n",
       "    <tr>\n",
       "      <th>658479</th>\n",
       "      <td>[zip]</td>\n",
       "      <td>[HATFIELD TOWNSHIP, LANSDALE, UPPER GWYNEDD, T...</td>\n",
       "      <td>29</td>\n",
       "    </tr>\n",
       "    <tr>\n",
       "      <th>77069</th>\n",
       "      <td>[addr]</td>\n",
       "      <td>[PENNSBURG, NORRISTOWN, SPRINGFIELD, TOWAMENCI...</td>\n",
       "      <td>6</td>\n",
       "    </tr>\n",
       "    <tr>\n",
       "      <th>474764</th>\n",
       "      <td>[coords]</td>\n",
       "      <td>[UPPER PROVIDENCE]</td>\n",
       "      <td>1</td>\n",
       "    </tr>\n",
       "  </tbody>\n",
       "</table>\n",
       "</div>"
      ],
      "text/plain": [
       "             cols_used                                                twp  \\\n",
       "row_index                                                                   \n",
       "646783     [zip, addr]                       [UPPER PROVIDENCE, PLYMOUTH]   \n",
       "579857           [zip]  [POTTSTOWN, LOWER POTTSGROVE, LIMERICK, WEST P...   \n",
       "658479           [zip]  [HATFIELD TOWNSHIP, LANSDALE, UPPER GWYNEDD, T...   \n",
       "77069           [addr]  [PENNSBURG, NORRISTOWN, SPRINGFIELD, TOWAMENCI...   \n",
       "474764        [coords]                                 [UPPER PROVIDENCE]   \n",
       "\n",
       "           twp_count  \n",
       "row_index             \n",
       "646783             2  \n",
       "579857            33  \n",
       "658479            29  \n",
       "77069              6  \n",
       "474764             1  "
      ]
     },
     "execution_count": 89,
     "metadata": {},
     "output_type": "execute_result"
    }
   ],
   "source": [
    "stats_df.sample(5)"
   ]
  },
  {
   "cell_type": "code",
   "execution_count": 81,
   "id": "17e3ebcc-063e-46c5-878e-ca86754368f5",
   "metadata": {},
   "outputs": [
    {
     "data": {
      "text/plain": [
       "63"
      ]
     },
     "execution_count": 81,
     "metadata": {},
     "output_type": "execute_result"
    }
   ],
   "source": [
    "stats_df[stats_df['twp_count'] == 1].shape[0]"
   ]
  },
  {
   "cell_type": "code",
   "execution_count": 91,
   "id": "7144bc50-fd72-4772-b03f-d9e2212c0146",
   "metadata": {},
   "outputs": [],
   "source": [
    "for idx, row in stats_df.iterrows():\n",
    "    if row['twp_count'] == 1:\n",
    "        nullTwp.loc[idx, 'twp'] = row['twp'][0]\n",
    "        \n",
    "    else:\n",
    "        cols = row['cols_used']\n",
    "        filtered_df = df.copy()\n",
    "        for col in cols:\n",
    "            filtered_df = filtered_df[filtered_df[col] == nullTwp.loc[idx, col]]\n",
    "\n",
    "        target_coords = np.array(nullTwp.loc[idx, 'coords'])  \n",
    "        points = np.vstack(filtered_df['coords'].to_numpy())\n",
    "        dists = np.linalg.norm(points - target_coords, axis=1)\n",
    "        nearest_idx = np.argmin(dists)\n",
    "        \n",
    "        nullTwp.loc[idx, 'twp'] = filtered_df.iloc[nearest_idx]['twp']"
   ]
  },
  {
   "cell_type": "code",
   "execution_count": 92,
   "id": "729b2f32-da01-420b-bea7-87c5c2c9453c",
   "metadata": {},
   "outputs": [
    {
     "name": "stdout",
     "output_type": "stream",
     "text": [
      "<class 'pandas.core.frame.DataFrame'>\n",
      "Index: 122 entries, 1635 to 661678\n",
      "Data columns (total 8 columns):\n",
      " #   Column     Non-Null Count  Dtype  \n",
      "---  ------     --------------  -----  \n",
      " 0   coords     122 non-null    object \n",
      " 1   desc       122 non-null    object \n",
      " 2   zip        122 non-null    float64\n",
      " 3   title      122 non-null    object \n",
      " 4   timeStamp  122 non-null    object \n",
      " 5   twp        122 non-null    object \n",
      " 6   addr       122 non-null    object \n",
      " 7   e          122 non-null    int64  \n",
      "dtypes: float64(1), int64(1), object(6)\n",
      "memory usage: 12.6+ KB\n"
     ]
    }
   ],
   "source": [
    "nullTwp.info()"
   ]
  },
  {
   "cell_type": "code",
   "execution_count": null,
   "id": "a4f8c4a4-ef60-48ea-80fa-4608b8672c09",
   "metadata": {},
   "outputs": [],
   "source": []
  }
 ],
 "metadata": {
  "kernelspec": {
   "display_name": "Python 3 (ipykernel)",
   "language": "python",
   "name": "python3"
  },
  "language_info": {
   "codemirror_mode": {
    "name": "ipython",
    "version": 3
   },
   "file_extension": ".py",
   "mimetype": "text/x-python",
   "name": "python",
   "nbconvert_exporter": "python",
   "pygments_lexer": "ipython3",
   "version": "3.13.5"
  }
 },
 "nbformat": 4,
 "nbformat_minor": 5
}
